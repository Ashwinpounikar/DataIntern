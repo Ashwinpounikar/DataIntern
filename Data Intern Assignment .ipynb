{
 "cells": [
  {
   "cell_type": "code",
   "execution_count": 1,
   "id": "aedfa3a2",
   "metadata": {},
   "outputs": [],
   "source": [
    "import feedparser\n",
    "import pandas as pd\n",
    "import os"
   ]
  },
  {
   "cell_type": "code",
   "execution_count": 2,
   "id": "078e0f1f",
   "metadata": {},
   "outputs": [],
   "source": [
    "urls = [\n",
    "    'http://rss.cnn.com/rss/cnn_topstories.rss',\n",
    "    'http://qz.com/feed',\n",
    "    'http://feeds.foxnews.com/foxnews/politics',\n",
    "    'http://feeds.reuters.com/reuters/businessNews',\n",
    "    'http://feeds.feedburner.com/NewshourWorld',\n",
    "    'https://feeds.bbci.co.uk/news/world/asia/india/rss.xml',\n",
    "]"
   ]
  },
  {
   "cell_type": "code",
   "execution_count": 3,
   "id": "026f92d4",
   "metadata": {},
   "outputs": [],
   "source": [
    "def fetch_urls(urls):\n",
    "    articles = []\n",
    "    for url in urls:\n",
    "        feed = feedparser.parse(url)\n",
    "        for entry in feed.entries:\n",
    "            article = {\n",
    "                'title': entry.get('title', ''),\n",
    "                'link': entry.get('link', ''),\n",
    "                'published': entry.get('published', ''),\n",
    "                'category': '',  # Placeholder for category, to be categorized later\n",
    "                'source': url,\n",
    "            }\n",
    "            if 'summary' in entry:\n",
    "                article['description'] = entry.summary\n",
    "            elif 'description' in entry:\n",
    "                article['description'] = entry.description\n",
    "            else:\n",
    "                article['description'] = ''\n",
    "\n",
    "            articles.append(article)\n",
    "\n",
    "    return articles\n"
   ]
  },
  {
   "cell_type": "code",
   "execution_count": 4,
   "id": "f5bde6c6",
   "metadata": {},
   "outputs": [],
   "source": [
    "news_articles = fetch_urls(urls)"
   ]
  },
  {
   "cell_type": "code",
   "execution_count": 5,
   "id": "fa90c914",
   "metadata": {},
   "outputs": [],
   "source": [
    "df = pd.DataFrame(news_articles)"
   ]
  },
  {
   "cell_type": "code",
   "execution_count": 6,
   "id": "f42ac2ba",
   "metadata": {},
   "outputs": [
    {
     "data": {
      "text/html": [
       "<div>\n",
       "<style scoped>\n",
       "    .dataframe tbody tr th:only-of-type {\n",
       "        vertical-align: middle;\n",
       "    }\n",
       "\n",
       "    .dataframe tbody tr th {\n",
       "        vertical-align: top;\n",
       "    }\n",
       "\n",
       "    .dataframe thead th {\n",
       "        text-align: right;\n",
       "    }\n",
       "</style>\n",
       "<table border=\"1\" class=\"dataframe\">\n",
       "  <thead>\n",
       "    <tr style=\"text-align: right;\">\n",
       "      <th></th>\n",
       "      <th>title</th>\n",
       "      <th>link</th>\n",
       "      <th>published</th>\n",
       "      <th>category</th>\n",
       "      <th>source</th>\n",
       "      <th>description</th>\n",
       "    </tr>\n",
       "  </thead>\n",
       "  <tbody>\n",
       "    <tr>\n",
       "      <th>0</th>\n",
       "      <td>Some on-air claims about Dominion Voting Syste...</td>\n",
       "      <td>https://www.cnn.com/business/live-news/fox-new...</td>\n",
       "      <td>Wed, 19 Apr 2023 12:44:51 GMT</td>\n",
       "      <td></td>\n",
       "      <td>http://rss.cnn.com/rss/cnn_topstories.rss</td>\n",
       "      <td></td>\n",
       "    </tr>\n",
       "    <tr>\n",
       "      <th>1</th>\n",
       "      <td>Dominion still has pending lawsuits against el...</td>\n",
       "      <td>https://www.cnn.com/business/live-news/fox-new...</td>\n",
       "      <td></td>\n",
       "      <td></td>\n",
       "      <td>http://rss.cnn.com/rss/cnn_topstories.rss</td>\n",
       "      <td></td>\n",
       "    </tr>\n",
       "    <tr>\n",
       "      <th>2</th>\n",
       "      <td>Here are the 20 specific Fox broadcasts and tw...</td>\n",
       "      <td>https://www.cnn.com/2023/04/17/media/dominion-...</td>\n",
       "      <td>Mon, 17 Apr 2023 16:01:11 GMT</td>\n",
       "      <td></td>\n",
       "      <td>http://rss.cnn.com/rss/cnn_topstories.rss</td>\n",
       "      <td>• Fox-Dominion trial delay 'is not unusual,' j...</td>\n",
       "    </tr>\n",
       "    <tr>\n",
       "      <th>3</th>\n",
       "      <td>Judge in Fox News-Dominion defamation trial: '...</td>\n",
       "      <td>https://www.cnn.com/2023/04/18/media/fox-domin...</td>\n",
       "      <td>Wed, 19 Apr 2023 08:28:17 GMT</td>\n",
       "      <td></td>\n",
       "      <td>http://rss.cnn.com/rss/cnn_topstories.rss</td>\n",
       "      <td>The judge just announced in court that a settl...</td>\n",
       "    </tr>\n",
       "    <tr>\n",
       "      <th>4</th>\n",
       "      <td>'Difficult to say with a straight face': Tappe...</td>\n",
       "      <td>https://www.cnn.com/videos/politics/2023/04/18...</td>\n",
       "      <td>Tue, 18 Apr 2023 21:17:44 GMT</td>\n",
       "      <td></td>\n",
       "      <td>http://rss.cnn.com/rss/cnn_topstories.rss</td>\n",
       "      <td>A settlement has been reached in Dominion Voti...</td>\n",
       "    </tr>\n",
       "  </tbody>\n",
       "</table>\n",
       "</div>"
      ],
      "text/plain": [
       "                                               title  \\\n",
       "0  Some on-air claims about Dominion Voting Syste...   \n",
       "1  Dominion still has pending lawsuits against el...   \n",
       "2  Here are the 20 specific Fox broadcasts and tw...   \n",
       "3  Judge in Fox News-Dominion defamation trial: '...   \n",
       "4  'Difficult to say with a straight face': Tappe...   \n",
       "\n",
       "                                                link  \\\n",
       "0  https://www.cnn.com/business/live-news/fox-new...   \n",
       "1  https://www.cnn.com/business/live-news/fox-new...   \n",
       "2  https://www.cnn.com/2023/04/17/media/dominion-...   \n",
       "3  https://www.cnn.com/2023/04/18/media/fox-domin...   \n",
       "4  https://www.cnn.com/videos/politics/2023/04/18...   \n",
       "\n",
       "                       published category  \\\n",
       "0  Wed, 19 Apr 2023 12:44:51 GMT            \n",
       "1                                           \n",
       "2  Mon, 17 Apr 2023 16:01:11 GMT            \n",
       "3  Wed, 19 Apr 2023 08:28:17 GMT            \n",
       "4  Tue, 18 Apr 2023 21:17:44 GMT            \n",
       "\n",
       "                                      source  \\\n",
       "0  http://rss.cnn.com/rss/cnn_topstories.rss   \n",
       "1  http://rss.cnn.com/rss/cnn_topstories.rss   \n",
       "2  http://rss.cnn.com/rss/cnn_topstories.rss   \n",
       "3  http://rss.cnn.com/rss/cnn_topstories.rss   \n",
       "4  http://rss.cnn.com/rss/cnn_topstories.rss   \n",
       "\n",
       "                                         description  \n",
       "0                                                     \n",
       "1                                                     \n",
       "2  • Fox-Dominion trial delay 'is not unusual,' j...  \n",
       "3  The judge just announced in court that a settl...  \n",
       "4  A settlement has been reached in Dominion Voti...  "
      ]
     },
     "execution_count": 6,
     "metadata": {},
     "output_type": "execute_result"
    }
   ],
   "source": [
    "df.head()"
   ]
  },
  {
   "cell_type": "code",
   "execution_count": 7,
   "id": "90e17fd8",
   "metadata": {},
   "outputs": [
    {
     "data": {
      "text/plain": [
       "(163, 6)"
      ]
     },
     "execution_count": 7,
     "metadata": {},
     "output_type": "execute_result"
    }
   ],
   "source": [
    "df.shape"
   ]
  },
  {
   "cell_type": "code",
   "execution_count": 8,
   "id": "78267b40",
   "metadata": {},
   "outputs": [],
   "source": [
    "output_excel_path = os.path.join('D:/Ashwin', 'output.xlsx')\n",
    "df.to_excel(output_excel_path, index=False, encoding='utf-8')"
   ]
  },
  {
   "cell_type": "code",
   "execution_count": 9,
   "id": "8e7a3d3f",
   "metadata": {},
   "outputs": [
    {
     "data": {
      "text/plain": [
       "0      False\n",
       "1      False\n",
       "2      False\n",
       "3      False\n",
       "4      False\n",
       "       ...  \n",
       "158    False\n",
       "159    False\n",
       "160    False\n",
       "161    False\n",
       "162    False\n",
       "Length: 163, dtype: bool"
      ]
     },
     "execution_count": 9,
     "metadata": {},
     "output_type": "execute_result"
    }
   ],
   "source": [
    "df.duplicated()"
   ]
  },
  {
   "cell_type": "code",
   "execution_count": 10,
   "id": "a2c06640",
   "metadata": {},
   "outputs": [
    {
     "data": {
      "text/html": [
       "<div>\n",
       "<style scoped>\n",
       "    .dataframe tbody tr th:only-of-type {\n",
       "        vertical-align: middle;\n",
       "    }\n",
       "\n",
       "    .dataframe tbody tr th {\n",
       "        vertical-align: top;\n",
       "    }\n",
       "\n",
       "    .dataframe thead th {\n",
       "        text-align: right;\n",
       "    }\n",
       "</style>\n",
       "<table border=\"1\" class=\"dataframe\">\n",
       "  <thead>\n",
       "    <tr style=\"text-align: right;\">\n",
       "      <th></th>\n",
       "      <th>title</th>\n",
       "      <th>link</th>\n",
       "      <th>published</th>\n",
       "      <th>category</th>\n",
       "      <th>source</th>\n",
       "      <th>description</th>\n",
       "    </tr>\n",
       "  </thead>\n",
       "  <tbody>\n",
       "    <tr>\n",
       "      <th>0</th>\n",
       "      <td>Some on-air claims about Dominion Voting Syste...</td>\n",
       "      <td>https://www.cnn.com/business/live-news/fox-new...</td>\n",
       "      <td>Wed, 19 Apr 2023 12:44:51 GMT</td>\n",
       "      <td></td>\n",
       "      <td>http://rss.cnn.com/rss/cnn_topstories.rss</td>\n",
       "      <td></td>\n",
       "    </tr>\n",
       "    <tr>\n",
       "      <th>1</th>\n",
       "      <td>Dominion still has pending lawsuits against el...</td>\n",
       "      <td>https://www.cnn.com/business/live-news/fox-new...</td>\n",
       "      <td></td>\n",
       "      <td></td>\n",
       "      <td>http://rss.cnn.com/rss/cnn_topstories.rss</td>\n",
       "      <td></td>\n",
       "    </tr>\n",
       "    <tr>\n",
       "      <th>2</th>\n",
       "      <td>Here are the 20 specific Fox broadcasts and tw...</td>\n",
       "      <td>https://www.cnn.com/2023/04/17/media/dominion-...</td>\n",
       "      <td>Mon, 17 Apr 2023 16:01:11 GMT</td>\n",
       "      <td></td>\n",
       "      <td>http://rss.cnn.com/rss/cnn_topstories.rss</td>\n",
       "      <td>• Fox-Dominion trial delay 'is not unusual,' j...</td>\n",
       "    </tr>\n",
       "    <tr>\n",
       "      <th>3</th>\n",
       "      <td>Judge in Fox News-Dominion defamation trial: '...</td>\n",
       "      <td>https://www.cnn.com/2023/04/18/media/fox-domin...</td>\n",
       "      <td>Wed, 19 Apr 2023 08:28:17 GMT</td>\n",
       "      <td></td>\n",
       "      <td>http://rss.cnn.com/rss/cnn_topstories.rss</td>\n",
       "      <td>The judge just announced in court that a settl...</td>\n",
       "    </tr>\n",
       "    <tr>\n",
       "      <th>4</th>\n",
       "      <td>'Difficult to say with a straight face': Tappe...</td>\n",
       "      <td>https://www.cnn.com/videos/politics/2023/04/18...</td>\n",
       "      <td>Tue, 18 Apr 2023 21:17:44 GMT</td>\n",
       "      <td></td>\n",
       "      <td>http://rss.cnn.com/rss/cnn_topstories.rss</td>\n",
       "      <td>A settlement has been reached in Dominion Voti...</td>\n",
       "    </tr>\n",
       "  </tbody>\n",
       "</table>\n",
       "</div>"
      ],
      "text/plain": [
       "                                               title  \\\n",
       "0  Some on-air claims about Dominion Voting Syste...   \n",
       "1  Dominion still has pending lawsuits against el...   \n",
       "2  Here are the 20 specific Fox broadcasts and tw...   \n",
       "3  Judge in Fox News-Dominion defamation trial: '...   \n",
       "4  'Difficult to say with a straight face': Tappe...   \n",
       "\n",
       "                                                link  \\\n",
       "0  https://www.cnn.com/business/live-news/fox-new...   \n",
       "1  https://www.cnn.com/business/live-news/fox-new...   \n",
       "2  https://www.cnn.com/2023/04/17/media/dominion-...   \n",
       "3  https://www.cnn.com/2023/04/18/media/fox-domin...   \n",
       "4  https://www.cnn.com/videos/politics/2023/04/18...   \n",
       "\n",
       "                       published category  \\\n",
       "0  Wed, 19 Apr 2023 12:44:51 GMT            \n",
       "1                                           \n",
       "2  Mon, 17 Apr 2023 16:01:11 GMT            \n",
       "3  Wed, 19 Apr 2023 08:28:17 GMT            \n",
       "4  Tue, 18 Apr 2023 21:17:44 GMT            \n",
       "\n",
       "                                      source  \\\n",
       "0  http://rss.cnn.com/rss/cnn_topstories.rss   \n",
       "1  http://rss.cnn.com/rss/cnn_topstories.rss   \n",
       "2  http://rss.cnn.com/rss/cnn_topstories.rss   \n",
       "3  http://rss.cnn.com/rss/cnn_topstories.rss   \n",
       "4  http://rss.cnn.com/rss/cnn_topstories.rss   \n",
       "\n",
       "                                         description  \n",
       "0                                                     \n",
       "1                                                     \n",
       "2  • Fox-Dominion trial delay 'is not unusual,' j...  \n",
       "3  The judge just announced in court that a settl...  \n",
       "4  A settlement has been reached in Dominion Voti...  "
      ]
     },
     "execution_count": 10,
     "metadata": {},
     "output_type": "execute_result"
    }
   ],
   "source": [
    "df.head()"
   ]
  }
 ],
 "metadata": {
  "kernelspec": {
   "display_name": "Python 3 (ipykernel)",
   "language": "python",
   "name": "python3"
  },
  "language_info": {
   "codemirror_mode": {
    "name": "ipython",
    "version": 3
   },
   "file_extension": ".py",
   "mimetype": "text/x-python",
   "name": "python",
   "nbconvert_exporter": "python",
   "pygments_lexer": "ipython3",
   "version": "3.10.9"
  }
 },
 "nbformat": 4,
 "nbformat_minor": 5
}
